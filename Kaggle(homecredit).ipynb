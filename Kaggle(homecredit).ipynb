{
 "cells": [
  {
   "cell_type": "code",
   "execution_count": 2,
   "metadata": {},
   "outputs": [],
   "source": [
    "import numpy as np\n",
    "import pandas as pd\n",
    "import matplotlib.pyplot as plt \n",
    "import seaborn as sns\n",
    "%matplotlib inline\n",
    "from sklearn.model_selection import train_test_split\n",
    "from sklearn.preprocessing import StandardScaler\n",
    "from sklearn.linear_model import LogisticRegression\n",
    "from sklearn.metrics import accuracy_score, confusion_matrix, roc_curve, roc_auc_score, classification_report\n",
    "import category_encoders as ce"
   ]
  },
  {
   "cell_type": "code",
   "execution_count": 3,
   "metadata": {},
   "outputs": [],
   "source": [
    "pd.set_option('display.max_rows',None)\n",
    "pd.set_option('display.max_columns',None)"
   ]
  },
  {
   "cell_type": "code",
   "execution_count": 4,
   "metadata": {},
   "outputs": [],
   "source": [
    "df=pd.read_csv('home-credit-default-risk/application_train.csv')"
   ]
  },
  {
   "cell_type": "code",
   "execution_count": 5,
   "metadata": {},
   "outputs": [
    {
     "data": {
      "text/plain": [
       "SK_ID_CURR                           0\n",
       "TARGET                               0\n",
       "NAME_CONTRACT_TYPE                   0\n",
       "CODE_GENDER                          0\n",
       "FLAG_OWN_CAR                         0\n",
       "FLAG_OWN_REALTY                      0\n",
       "CNT_CHILDREN                         0\n",
       "AMT_INCOME_TOTAL                     0\n",
       "AMT_CREDIT                           0\n",
       "AMT_ANNUITY                         12\n",
       "AMT_GOODS_PRICE                    278\n",
       "NAME_TYPE_SUITE                   1292\n",
       "NAME_INCOME_TYPE                     0\n",
       "NAME_EDUCATION_TYPE                  0\n",
       "NAME_FAMILY_STATUS                   0\n",
       "NAME_HOUSING_TYPE                    0\n",
       "REGION_POPULATION_RELATIVE           0\n",
       "DAYS_BIRTH                           0\n",
       "DAYS_EMPLOYED                        0\n",
       "DAYS_REGISTRATION                    0\n",
       "DAYS_ID_PUBLISH                      0\n",
       "OWN_CAR_AGE                     202929\n",
       "FLAG_MOBIL                           0\n",
       "FLAG_EMP_PHONE                       0\n",
       "FLAG_WORK_PHONE                      0\n",
       "FLAG_CONT_MOBILE                     0\n",
       "FLAG_PHONE                           0\n",
       "FLAG_EMAIL                           0\n",
       "OCCUPATION_TYPE                  96391\n",
       "CNT_FAM_MEMBERS                      2\n",
       "REGION_RATING_CLIENT                 0\n",
       "REGION_RATING_CLIENT_W_CITY          0\n",
       "WEEKDAY_APPR_PROCESS_START           0\n",
       "HOUR_APPR_PROCESS_START              0\n",
       "REG_REGION_NOT_LIVE_REGION           0\n",
       "REG_REGION_NOT_WORK_REGION           0\n",
       "LIVE_REGION_NOT_WORK_REGION          0\n",
       "REG_CITY_NOT_LIVE_CITY               0\n",
       "REG_CITY_NOT_WORK_CITY               0\n",
       "LIVE_CITY_NOT_WORK_CITY              0\n",
       "ORGANIZATION_TYPE                    0\n",
       "EXT_SOURCE_1                    173378\n",
       "EXT_SOURCE_2                       660\n",
       "EXT_SOURCE_3                     60965\n",
       "APARTMENTS_AVG                  156061\n",
       "BASEMENTAREA_AVG                179943\n",
       "YEARS_BEGINEXPLUATATION_AVG     150007\n",
       "YEARS_BUILD_AVG                 204488\n",
       "COMMONAREA_AVG                  214865\n",
       "ELEVATORS_AVG                   163891\n",
       "ENTRANCES_AVG                   154828\n",
       "FLOORSMAX_AVG                   153020\n",
       "FLOORSMIN_AVG                   208642\n",
       "LANDAREA_AVG                    182590\n",
       "LIVINGAPARTMENTS_AVG            210199\n",
       "LIVINGAREA_AVG                  154350\n",
       "NONLIVINGAPARTMENTS_AVG         213514\n",
       "NONLIVINGAREA_AVG               169682\n",
       "APARTMENTS_MODE                 156061\n",
       "BASEMENTAREA_MODE               179943\n",
       "YEARS_BEGINEXPLUATATION_MODE    150007\n",
       "YEARS_BUILD_MODE                204488\n",
       "COMMONAREA_MODE                 214865\n",
       "ELEVATORS_MODE                  163891\n",
       "ENTRANCES_MODE                  154828\n",
       "FLOORSMAX_MODE                  153020\n",
       "FLOORSMIN_MODE                  208642\n",
       "LANDAREA_MODE                   182590\n",
       "LIVINGAPARTMENTS_MODE           210199\n",
       "LIVINGAREA_MODE                 154350\n",
       "NONLIVINGAPARTMENTS_MODE        213514\n",
       "NONLIVINGAREA_MODE              169682\n",
       "APARTMENTS_MEDI                 156061\n",
       "BASEMENTAREA_MEDI               179943\n",
       "YEARS_BEGINEXPLUATATION_MEDI    150007\n",
       "YEARS_BUILD_MEDI                204488\n",
       "COMMONAREA_MEDI                 214865\n",
       "ELEVATORS_MEDI                  163891\n",
       "ENTRANCES_MEDI                  154828\n",
       "FLOORSMAX_MEDI                  153020\n",
       "FLOORSMIN_MEDI                  208642\n",
       "LANDAREA_MEDI                   182590\n",
       "LIVINGAPARTMENTS_MEDI           210199\n",
       "LIVINGAREA_MEDI                 154350\n",
       "NONLIVINGAPARTMENTS_MEDI        213514\n",
       "NONLIVINGAREA_MEDI              169682\n",
       "FONDKAPREMONT_MODE              210295\n",
       "HOUSETYPE_MODE                  154297\n",
       "TOTALAREA_MODE                  148431\n",
       "WALLSMATERIAL_MODE              156341\n",
       "EMERGENCYSTATE_MODE             145755\n",
       "OBS_30_CNT_SOCIAL_CIRCLE          1021\n",
       "DEF_30_CNT_SOCIAL_CIRCLE          1021\n",
       "OBS_60_CNT_SOCIAL_CIRCLE          1021\n",
       "DEF_60_CNT_SOCIAL_CIRCLE          1021\n",
       "DAYS_LAST_PHONE_CHANGE               1\n",
       "FLAG_DOCUMENT_2                      0\n",
       "FLAG_DOCUMENT_3                      0\n",
       "FLAG_DOCUMENT_4                      0\n",
       "FLAG_DOCUMENT_5                      0\n",
       "FLAG_DOCUMENT_6                      0\n",
       "FLAG_DOCUMENT_7                      0\n",
       "FLAG_DOCUMENT_8                      0\n",
       "FLAG_DOCUMENT_9                      0\n",
       "FLAG_DOCUMENT_10                     0\n",
       "FLAG_DOCUMENT_11                     0\n",
       "FLAG_DOCUMENT_12                     0\n",
       "FLAG_DOCUMENT_13                     0\n",
       "FLAG_DOCUMENT_14                     0\n",
       "FLAG_DOCUMENT_15                     0\n",
       "FLAG_DOCUMENT_16                     0\n",
       "FLAG_DOCUMENT_17                     0\n",
       "FLAG_DOCUMENT_18                     0\n",
       "FLAG_DOCUMENT_19                     0\n",
       "FLAG_DOCUMENT_20                     0\n",
       "FLAG_DOCUMENT_21                     0\n",
       "AMT_REQ_CREDIT_BUREAU_HOUR       41519\n",
       "AMT_REQ_CREDIT_BUREAU_DAY        41519\n",
       "AMT_REQ_CREDIT_BUREAU_WEEK       41519\n",
       "AMT_REQ_CREDIT_BUREAU_MON        41519\n",
       "AMT_REQ_CREDIT_BUREAU_QRT        41519\n",
       "AMT_REQ_CREDIT_BUREAU_YEAR       41519\n",
       "dtype: int64"
      ]
     },
     "execution_count": 5,
     "metadata": {},
     "output_type": "execute_result"
    }
   ],
   "source": [
    "#欠損値の総数の確認\n",
    "df.isnull().sum()"
   ]
  },
  {
   "cell_type": "code",
   "execution_count": 6,
   "metadata": {},
   "outputs": [
    {
     "data": {
      "text/plain": [
       "(307511, 122)"
      ]
     },
     "execution_count": 6,
     "metadata": {},
     "output_type": "execute_result"
    }
   ],
   "source": [
    "#dfの形の確認\n",
    "df.shape"
   ]
  },
  {
   "cell_type": "code",
   "execution_count": 7,
   "metadata": {},
   "outputs": [],
   "source": [
    "#欠損値を中央値で埋める\n",
    "df_fna=df.fillna(df.median())"
   ]
  },
  {
   "cell_type": "code",
   "execution_count": 8,
   "metadata": {},
   "outputs": [],
   "source": [
    "#データを従属変数(y)と独立変数(X)に分ける\n",
    "X = df_fna[[col for col in df_fna.columns if col != 'TARGET']]\n",
    "y = df_fna.TARGET"
   ]
  },
  {
   "cell_type": "code",
   "execution_count": 9,
   "metadata": {},
   "outputs": [
    {
     "data": {
      "text/plain": [
       "SK_ID_CURR                      False\n",
       "TARGET                          False\n",
       "NAME_CONTRACT_TYPE               True\n",
       "CODE_GENDER                      True\n",
       "FLAG_OWN_CAR                     True\n",
       "FLAG_OWN_REALTY                  True\n",
       "CNT_CHILDREN                    False\n",
       "AMT_INCOME_TOTAL                False\n",
       "AMT_CREDIT                      False\n",
       "AMT_ANNUITY                     False\n",
       "AMT_GOODS_PRICE                 False\n",
       "NAME_TYPE_SUITE                  True\n",
       "NAME_INCOME_TYPE                 True\n",
       "NAME_EDUCATION_TYPE              True\n",
       "NAME_FAMILY_STATUS               True\n",
       "NAME_HOUSING_TYPE                True\n",
       "REGION_POPULATION_RELATIVE      False\n",
       "DAYS_BIRTH                      False\n",
       "DAYS_EMPLOYED                   False\n",
       "DAYS_REGISTRATION               False\n",
       "DAYS_ID_PUBLISH                 False\n",
       "OWN_CAR_AGE                     False\n",
       "FLAG_MOBIL                      False\n",
       "FLAG_EMP_PHONE                  False\n",
       "FLAG_WORK_PHONE                 False\n",
       "FLAG_CONT_MOBILE                False\n",
       "FLAG_PHONE                      False\n",
       "FLAG_EMAIL                      False\n",
       "OCCUPATION_TYPE                  True\n",
       "CNT_FAM_MEMBERS                 False\n",
       "REGION_RATING_CLIENT            False\n",
       "REGION_RATING_CLIENT_W_CITY     False\n",
       "WEEKDAY_APPR_PROCESS_START       True\n",
       "HOUR_APPR_PROCESS_START         False\n",
       "REG_REGION_NOT_LIVE_REGION      False\n",
       "REG_REGION_NOT_WORK_REGION      False\n",
       "LIVE_REGION_NOT_WORK_REGION     False\n",
       "REG_CITY_NOT_LIVE_CITY          False\n",
       "REG_CITY_NOT_WORK_CITY          False\n",
       "LIVE_CITY_NOT_WORK_CITY         False\n",
       "ORGANIZATION_TYPE                True\n",
       "EXT_SOURCE_1                    False\n",
       "EXT_SOURCE_2                    False\n",
       "EXT_SOURCE_3                    False\n",
       "APARTMENTS_AVG                  False\n",
       "BASEMENTAREA_AVG                False\n",
       "YEARS_BEGINEXPLUATATION_AVG     False\n",
       "YEARS_BUILD_AVG                 False\n",
       "COMMONAREA_AVG                  False\n",
       "ELEVATORS_AVG                   False\n",
       "ENTRANCES_AVG                   False\n",
       "FLOORSMAX_AVG                   False\n",
       "FLOORSMIN_AVG                   False\n",
       "LANDAREA_AVG                    False\n",
       "LIVINGAPARTMENTS_AVG            False\n",
       "LIVINGAREA_AVG                  False\n",
       "NONLIVINGAPARTMENTS_AVG         False\n",
       "NONLIVINGAREA_AVG               False\n",
       "APARTMENTS_MODE                 False\n",
       "BASEMENTAREA_MODE               False\n",
       "YEARS_BEGINEXPLUATATION_MODE    False\n",
       "YEARS_BUILD_MODE                False\n",
       "COMMONAREA_MODE                 False\n",
       "ELEVATORS_MODE                  False\n",
       "ENTRANCES_MODE                  False\n",
       "FLOORSMAX_MODE                  False\n",
       "FLOORSMIN_MODE                  False\n",
       "LANDAREA_MODE                   False\n",
       "LIVINGAPARTMENTS_MODE           False\n",
       "LIVINGAREA_MODE                 False\n",
       "NONLIVINGAPARTMENTS_MODE        False\n",
       "NONLIVINGAREA_MODE              False\n",
       "APARTMENTS_MEDI                 False\n",
       "BASEMENTAREA_MEDI               False\n",
       "YEARS_BEGINEXPLUATATION_MEDI    False\n",
       "YEARS_BUILD_MEDI                False\n",
       "COMMONAREA_MEDI                 False\n",
       "ELEVATORS_MEDI                  False\n",
       "ENTRANCES_MEDI                  False\n",
       "FLOORSMAX_MEDI                  False\n",
       "FLOORSMIN_MEDI                  False\n",
       "LANDAREA_MEDI                   False\n",
       "LIVINGAPARTMENTS_MEDI           False\n",
       "LIVINGAREA_MEDI                 False\n",
       "NONLIVINGAPARTMENTS_MEDI        False\n",
       "NONLIVINGAREA_MEDI              False\n",
       "FONDKAPREMONT_MODE               True\n",
       "HOUSETYPE_MODE                   True\n",
       "TOTALAREA_MODE                  False\n",
       "WALLSMATERIAL_MODE               True\n",
       "EMERGENCYSTATE_MODE              True\n",
       "OBS_30_CNT_SOCIAL_CIRCLE        False\n",
       "DEF_30_CNT_SOCIAL_CIRCLE        False\n",
       "OBS_60_CNT_SOCIAL_CIRCLE        False\n",
       "DEF_60_CNT_SOCIAL_CIRCLE        False\n",
       "DAYS_LAST_PHONE_CHANGE          False\n",
       "FLAG_DOCUMENT_2                 False\n",
       "FLAG_DOCUMENT_3                 False\n",
       "FLAG_DOCUMENT_4                 False\n",
       "FLAG_DOCUMENT_5                 False\n",
       "FLAG_DOCUMENT_6                 False\n",
       "FLAG_DOCUMENT_7                 False\n",
       "FLAG_DOCUMENT_8                 False\n",
       "FLAG_DOCUMENT_9                 False\n",
       "FLAG_DOCUMENT_10                False\n",
       "FLAG_DOCUMENT_11                False\n",
       "FLAG_DOCUMENT_12                False\n",
       "FLAG_DOCUMENT_13                False\n",
       "FLAG_DOCUMENT_14                False\n",
       "FLAG_DOCUMENT_15                False\n",
       "FLAG_DOCUMENT_16                False\n",
       "FLAG_DOCUMENT_17                False\n",
       "FLAG_DOCUMENT_18                False\n",
       "FLAG_DOCUMENT_19                False\n",
       "FLAG_DOCUMENT_20                False\n",
       "FLAG_DOCUMENT_21                False\n",
       "AMT_REQ_CREDIT_BUREAU_HOUR      False\n",
       "AMT_REQ_CREDIT_BUREAU_DAY       False\n",
       "AMT_REQ_CREDIT_BUREAU_WEEK      False\n",
       "AMT_REQ_CREDIT_BUREAU_MON       False\n",
       "AMT_REQ_CREDIT_BUREAU_QRT       False\n",
       "AMT_REQ_CREDIT_BUREAU_YEAR      False\n",
       "dtype: bool"
      ]
     },
     "execution_count": 9,
     "metadata": {},
     "output_type": "execute_result"
    }
   ],
   "source": [
    "#数値データではない変数の確認\n",
    "df.dtypes == 'object'"
   ]
  },
  {
   "cell_type": "code",
   "execution_count": 10,
   "metadata": {},
   "outputs": [],
   "source": [
    "#数値データではないカラムの抽出\n",
    "df.columns[df.dtypes == 'object'].shape\n",
    "df_col=df.columns[df.dtypes == 'object']"
   ]
  },
  {
   "cell_type": "code",
   "execution_count": 11,
   "metadata": {
    "scrolled": true
   },
   "outputs": [
    {
     "data": {
      "text/plain": [
       "Index(['NAME_CONTRACT_TYPE', 'CODE_GENDER', 'FLAG_OWN_CAR', 'FLAG_OWN_REALTY',\n",
       "       'NAME_TYPE_SUITE', 'NAME_INCOME_TYPE', 'NAME_EDUCATION_TYPE',\n",
       "       'NAME_FAMILY_STATUS', 'NAME_HOUSING_TYPE', 'OCCUPATION_TYPE',\n",
       "       'WEEKDAY_APPR_PROCESS_START', 'ORGANIZATION_TYPE', 'FONDKAPREMONT_MODE',\n",
       "       'HOUSETYPE_MODE', 'WALLSMATERIAL_MODE', 'EMERGENCYSTATE_MODE'],\n",
       "      dtype='object')"
      ]
     },
     "execution_count": 11,
     "metadata": {},
     "output_type": "execute_result"
    }
   ],
   "source": [
    "df_col"
   ]
  },
  {
   "cell_type": "code",
   "execution_count": 12,
   "metadata": {},
   "outputs": [],
   "source": [
    "#エンコーディングを行う\n",
    "df_ce = ce.OneHotEncoder(cols=df_col)"
   ]
  },
  {
   "cell_type": "code",
   "execution_count": 13,
   "metadata": {
    "scrolled": true
   },
   "outputs": [],
   "source": [
    "df_cef=df_ce.fit_transform(X)"
   ]
  },
  {
   "cell_type": "code",
   "execution_count": 14,
   "metadata": {},
   "outputs": [],
   "source": [
    "#標準化を行う\n",
    "SS=StandardScaler()\n",
    "SS.fit(df_cef)\n",
    "X_scaled=SS.transform(df_cef)"
   ]
  },
  {
   "cell_type": "code",
   "execution_count": 15,
   "metadata": {},
   "outputs": [],
   "source": [
    "#X, yを訓練とテストに分ける\n",
    "X_train, X_test, y_train, y_test = train_test_split(X_scaled, y, random_state=2019, test_size=0.2, stratify=y)"
   ]
  },
  {
   "cell_type": "code",
   "execution_count": 16,
   "metadata": {},
   "outputs": [],
   "source": [
    "#ロジスティック回帰を行う\n",
    "logreg = LogisticRegression()"
   ]
  },
  {
   "cell_type": "code",
   "execution_count": 17,
   "metadata": {},
   "outputs": [
    {
     "name": "stderr",
     "output_type": "stream",
     "text": [
      "/opt/anaconda3/lib/python3.7/site-packages/sklearn/linear_model/_logistic.py:940: ConvergenceWarning: lbfgs failed to converge (status=1):\n",
      "STOP: TOTAL NO. of ITERATIONS REACHED LIMIT.\n",
      "\n",
      "Increase the number of iterations (max_iter) or scale the data as shown in:\n",
      "    https://scikit-learn.org/stable/modules/preprocessing.html\n",
      "Please also refer to the documentation for alternative solver options:\n",
      "    https://scikit-learn.org/stable/modules/linear_model.html#logistic-regression\n",
      "  extra_warning_msg=_LOGISTIC_SOLVER_CONVERGENCE_MSG)\n"
     ]
    },
    {
     "data": {
      "text/plain": [
       "LogisticRegression(C=1.0, class_weight=None, dual=False, fit_intercept=True,\n",
       "                   intercept_scaling=1, l1_ratio=None, max_iter=100,\n",
       "                   multi_class='auto', n_jobs=None, penalty='l2',\n",
       "                   random_state=None, solver='lbfgs', tol=0.0001, verbose=0,\n",
       "                   warm_start=False)"
      ]
     },
     "execution_count": 17,
     "metadata": {},
     "output_type": "execute_result"
    }
   ],
   "source": [
    "logreg.fit(X_train, y_train)"
   ]
  },
  {
   "cell_type": "code",
   "execution_count": 18,
   "metadata": {},
   "outputs": [],
   "source": [
    "#学習モデルを使って予測する\n",
    "pred = logreg.predict_proba(X_test)[: , 1]"
   ]
  },
  {
   "cell_type": "code",
   "execution_count": 19,
   "metadata": {},
   "outputs": [
    {
     "data": {
      "image/png": "[encoded data removed]",
      "text/plain": [
       "<Figure size 432x288 with 1 Axes>"
      ]
     },
     "metadata": {
      "needs_background": "light"
     },
     "output_type": "display_data"
    }
   ],
   "source": [
    "#ROC曲線を描く\n",
    "fpr, tpr, thresholds = roc_curve(y_test, pred) \n",
    "auc_score = roc_auc_score(y_test, pred) \n",
    "plt.plot(fpr, tpr, label='AUC = %.3f' % (auc_score)) \n",
    "plt.legend()\n",
    "plt.title('ROC curve')\n",
    "plt.xlabel('False Positive Rate')\n",
    "plt.ylabel('True Positive Rate')\n",
    "plt.grid(True)"
   ]
  },
  {
   "cell_type": "code",
   "execution_count": 20,
   "metadata": {},
   "outputs": [],
   "source": [
    "#テストファイルの読み込み\n",
    "df_test=pd.read_csv('home-credit-default-risk/application_test.csv')"
   ]
  },
  {
   "cell_type": "code",
   "execution_count": 21,
   "metadata": {},
   "outputs": [],
   "source": [
    "#欠損値を訓練データの中央値で埋める\n",
    "df_test_fna=df_test.fillna(df.median())"
   ]
  },
  {
   "cell_type": "code",
   "execution_count": 22,
   "metadata": {},
   "outputs": [],
   "source": [
    "#エンコーディングを行う\n",
    "df_test_cef=df_ce.transform(df_test_fna)"
   ]
  },
  {
   "cell_type": "code",
   "execution_count": 24,
   "metadata": {},
   "outputs": [],
   "source": [
    "#訓練データの値を用いて標準化\n",
    "X_test_scaled=SS.transform(df_test_cef)"
   ]
  },
  {
   "cell_type": "code",
   "execution_count": 40,
   "metadata": {},
   "outputs": [
    {
     "data": {
      "text/plain": [
       "array([0.05708767, 0.22989341, 0.04825094, ..., 0.04611165, 0.05702069,\n",
       "       0.11397536])"
      ]
     },
     "execution_count": 40,
     "metadata": {},
     "output_type": "execute_result"
    }
   ],
   "source": [
    "#予測値の出力\n",
    "test_preds=logreg.predict_proba(X_test_scaled)[:,1]\n",
    "test_preds"
   ]
  },
  {
   "cell_type": "code",
   "execution_count": 41,
   "metadata": {},
   "outputs": [],
   "source": [
    "#CSVファイルに出力\n",
    "sub = pd.DataFrame({'SK_ID_CURR': df_test.SK_ID_CURR , 'TARGET': test_preds})"
   ]
  },
  {
   "cell_type": "code",
   "execution_count": 42,
   "metadata": {},
   "outputs": [],
   "source": [
    "#CSVファイルに出力\n",
    "sub.to_csv('submit.csv', index = False)"
   ]
  }
 ],
 "metadata": {
  "kernelspec": {
   "display_name": "Python 3",
   "language": "python",
   "name": "python3"
  },
  "language_info": {
   "codemirror_mode": {
    "name": "ipython",
    "version": 3
   },
   "file_extension": ".py",
   "mimetype": "text/x-python",
   "name": "python",
   "nbconvert_exporter": "python",
   "pygments_lexer": "ipython3",
   "version": "3.7.6"
  }
 },
 "nbformat": 4,
 "nbformat_minor": 4
}
