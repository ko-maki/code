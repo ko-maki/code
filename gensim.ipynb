{
 "cells": [
  {
   "cell_type": "markdown",
   "metadata": {},
   "source": [
    "# gensimを利用してみる"
   ]
  },
  {
   "cell_type": "markdown",
   "metadata": {},
   "source": [
    "## 参考にしたサイト\n",
    "https://blog.amedama.jp/entry/gensim-fasttext-pre-trained-word-vectors"
   ]
  },
  {
   "cell_type": "markdown",
   "metadata": {},
   "source": [
    "## 今回やること  \n",
    "単語をベクトル表記に変換する。  \n",
    "2つの単語の類似度を算出する。  \n",
    "単語の足し算引き算を行う。"
   ]
  },
  {
   "cell_type": "markdown",
   "metadata": {},
   "source": [
    "### ターミナルでの操作  \n",
    "①gensimをインポートする。  \n",
    "②作業するディレクトリに移動する。  \n",
    "③学習済み単語ベクトル表現をダウンロードする。  \n",
    "    `$ wget https://dl.fbaipublicfiles.com/fasttext/vectors-crawl/cc.ja.300.vec.gz`  \n",
    "④jupyter notebookを起動する。"
   ]
  },
  {
   "cell_type": "code",
   "execution_count": 1,
   "metadata": {},
   "outputs": [],
   "source": [
    "#gensimをインポートする。\n",
    "import gensim"
   ]
  },
  {
   "cell_type": "code",
   "execution_count": 17,
   "metadata": {},
   "outputs": [],
   "source": [
    "#単語をベクトル表記するモデルを設定する。\n",
    "#https://radimrehurek.com/gensim/models/keyedvectors.html\n",
    "model = gensim.models.KeyedVectors.load_word2vec_format('cc.ja.300.vec.gz', binary=False)"
   ]
  },
  {
   "cell_type": "code",
   "execution_count": 11,
   "metadata": {},
   "outputs": [
    {
     "data": {
      "text/plain": [
       "<gensim.models.keyedvectors.Word2VecKeyedVectors at 0x1a1bd3a490>"
      ]
     },
     "execution_count": 11,
     "metadata": {},
     "output_type": "execute_result"
    }
   ],
   "source": [
    "#モデルが設定できているかを確認する。\n",
    "model"
   ]
  },
  {
   "cell_type": "code",
   "execution_count": 14,
   "metadata": {},
   "outputs": [
    {
     "data": {
      "text/plain": [
       "array([-3.224e-01, -2.448e-01,  1.438e-01,  4.419e-01, -4.165e-01,\n",
       "       -1.180e-02,  7.240e-02,  7.690e-02, -1.866e-01,  3.277e-01,\n",
       "        2.840e-02,  1.551e-01, -1.324e-01,  8.070e-02, -3.324e-01,\n",
       "       -1.978e-01,  4.940e-02, -1.195e-01, -2.840e-01,  3.360e-02,\n",
       "        1.772e-01, -1.609e-01, -2.519e-01, -3.600e-02, -1.266e-01,\n",
       "       -1.410e-01, -6.110e-02,  5.740e-02, -2.440e-02,  1.402e-01,\n",
       "        1.955e-01,  1.320e-01, -8.440e-02,  2.960e-02, -2.324e-01,\n",
       "        4.630e-02,  4.130e-02, -3.700e-02,  1.312e-01,  3.453e-01,\n",
       "       -1.339e-01, -1.236e-01,  8.080e-02,  3.310e-02, -8.990e-02,\n",
       "        2.979e-01, -9.900e-03,  4.630e-02, -2.620e-01, -6.700e-02,\n",
       "       -5.410e-02,  1.518e-01,  9.530e-02, -8.290e-02,  3.415e-01,\n",
       "        3.059e-01, -1.621e-01, -2.337e-01,  2.760e-01, -6.990e-02,\n",
       "       -1.820e-02, -2.532e-01, -6.790e-02,  8.580e-02, -1.233e-01,\n",
       "        3.460e-02,  3.660e-02,  6.000e-04,  2.261e-01, -1.275e-01,\n",
       "        7.860e-02,  4.812e-01,  1.920e-01,  7.830e-02,  3.211e-01,\n",
       "       -1.983e-01,  4.300e-03, -2.275e-01,  1.480e-02, -1.471e-01,\n",
       "       -2.530e-02, -4.812e-01, -1.244e-01,  8.250e-02,  8.390e-02,\n",
       "       -9.150e-02, -1.765e-01,  9.490e-02, -4.650e-02,  1.376e-01,\n",
       "        6.630e-02,  7.370e-02, -8.040e-02,  9.080e-02, -2.763e-01,\n",
       "       -1.000e-03, -2.064e-01,  9.220e-02, -1.000e-01,  1.297e-01,\n",
       "        2.107e-01,  1.864e-01,  7.490e-02, -1.826e-01, -7.930e-02,\n",
       "        3.741e-01,  3.300e-03,  1.191e-01,  1.616e-01, -9.030e-02,\n",
       "       -1.363e-01,  1.417e-01,  2.213e-01,  1.620e-02,  1.269e-01,\n",
       "       -9.410e-02, -3.153e-01,  2.356e-01, -2.153e-01, -7.350e-02,\n",
       "       -1.178e-01, -1.462e-01,  6.650e-02,  3.126e-01,  3.027e-01,\n",
       "        8.380e-02,  1.317e-01, -2.864e-01, -2.207e-01,  6.800e-02,\n",
       "       -2.510e-02,  2.885e-01,  1.003e-01, -2.100e-02, -1.634e-01,\n",
       "       -2.985e-01,  1.317e-01, -1.021e-01,  2.635e-01, -1.832e-01,\n",
       "        1.800e-02, -2.904e-01, -2.577e-01, -3.513e-01,  2.176e-01,\n",
       "        1.127e-01, -1.431e-01,  2.278e-01,  7.600e-02,  8.060e-02,\n",
       "        1.483e-01,  3.690e-02,  1.290e-02,  9.390e-02, -1.012e-01,\n",
       "       -8.880e-02, -2.851e-01,  6.390e-02,  6.330e-02, -2.520e-02,\n",
       "        2.870e-02, -2.457e-01,  8.620e-02, -1.450e-02,  2.520e-02,\n",
       "       -2.413e-01,  6.770e-02,  1.940e-02,  6.580e-02,  1.716e-01,\n",
       "       -1.592e-01, -3.500e-03, -5.400e-03,  1.617e-01,  1.789e-01,\n",
       "       -1.380e-01,  8.000e-04, -2.022e-01,  3.870e-02,  9.490e-02,\n",
       "       -2.407e-01, -9.720e-02,  2.643e-01,  1.204e-01, -1.095e-01,\n",
       "       -2.337e-01,  2.753e-01, -1.770e-01,  1.173e-01,  2.965e-01,\n",
       "        9.640e-02,  1.453e-01, -2.472e-01, -1.380e-01, -1.082e-01,\n",
       "        1.700e-02,  4.220e-02, -8.580e-02, -1.535e-01, -1.719e-01,\n",
       "       -2.550e-02, -2.863e-01, -1.769e-01,  1.489e-01,  1.250e-02,\n",
       "       -1.870e-02, -1.550e-01, -1.399e-01,  1.400e-03, -9.070e-02,\n",
       "       -2.301e-01, -1.651e-01, -2.500e-01, -1.061e-01,  4.590e-02,\n",
       "       -2.765e-01,  3.126e-01, -7.340e-01,  3.569e-01,  2.974e-01,\n",
       "       -1.310e-02,  2.600e-03,  6.600e-03, -3.333e-01, -4.280e-02,\n",
       "       -2.173e-01,  2.426e-01, -1.105e-01,  2.891e-01,  1.700e-03,\n",
       "        1.658e-01, -6.970e-02, -3.362e-01,  5.509e-01, -1.206e-01,\n",
       "       -6.120e-02, -4.330e-01, -3.136e-01,  2.960e-02, -1.432e-01,\n",
       "        6.440e-02, -2.209e-01, -3.422e-01, -2.536e-01, -3.690e-02,\n",
       "       -1.139e-01, -2.935e-01,  2.861e-01,  7.370e-02, -1.204e-01,\n",
       "       -4.540e-02, -4.877e-01, -7.800e-02,  1.731e-01, -7.720e-02,\n",
       "        5.324e-01,  1.212e-01,  1.750e-02,  6.150e-02,  4.050e-02,\n",
       "        2.697e-01,  2.136e-01,  6.720e-02,  2.245e-01,  3.564e-01,\n",
       "       -2.419e-01,  3.500e-03,  2.370e-01,  1.991e-01, -1.752e-01,\n",
       "       -2.309e-01,  4.800e-03,  3.590e-02,  4.690e-01,  1.067e-01,\n",
       "       -2.990e-01,  1.162e-01,  2.950e-02, -7.260e-02, -1.044e-01,\n",
       "       -1.800e-02,  6.550e-02,  4.730e-02, -3.790e-02,  1.395e-01,\n",
       "       -8.010e-02,  1.577e-01, -1.746e-01,  3.100e-02,  1.900e-02,\n",
       "       -1.350e-01,  2.650e-02,  1.459e-01, -1.608e-01, -1.139e-01,\n",
       "       -4.600e-03, -1.320e-01, -2.410e-02, -6.310e-02, -1.933e-01],\n",
       "      dtype=float32)"
      ]
     },
     "execution_count": 14,
     "metadata": {},
     "output_type": "execute_result"
    }
   ],
   "source": [
    "#単語を入力してみる。\n",
    "model['鬼']"
   ]
  },
  {
   "cell_type": "code",
   "execution_count": 19,
   "metadata": {
    "scrolled": true
   },
   "outputs": [
    {
     "ename": "KeyError",
     "evalue": "\"word '鬼滅の刃' not in vocabulary\"",
     "output_type": "error",
     "traceback": [
      "\u001b[0;31m---------------------------------------------------------------------------\u001b[0m",
      "\u001b[0;31mKeyError\u001b[0m                                  Traceback (most recent call last)",
      "\u001b[0;32m<ipython-input-19-73f68d1a29ca>\u001b[0m in \u001b[0;36m<module>\u001b[0;34m\u001b[0m\n\u001b[1;32m      1\u001b[0m \u001b[0;31m#無い単語を入れると以下のようになる。\u001b[0m\u001b[0;34m\u001b[0m\u001b[0;34m\u001b[0m\u001b[0;34m\u001b[0m\u001b[0m\n\u001b[0;32m----> 2\u001b[0;31m \u001b[0mmodel\u001b[0m\u001b[0;34m[\u001b[0m\u001b[0;34m'鬼滅の刃'\u001b[0m\u001b[0;34m]\u001b[0m\u001b[0;34m\u001b[0m\u001b[0;34m\u001b[0m\u001b[0m\n\u001b[0m",
      "\u001b[0;32m/opt/anaconda3/lib/python3.7/site-packages/gensim/models/keyedvectors.py\u001b[0m in \u001b[0;36m__getitem__\u001b[0;34m(self, entities)\u001b[0m\n\u001b[1;32m    351\u001b[0m         \u001b[0;32mif\u001b[0m \u001b[0misinstance\u001b[0m\u001b[0;34m(\u001b[0m\u001b[0mentities\u001b[0m\u001b[0;34m,\u001b[0m \u001b[0mstring_types\u001b[0m\u001b[0;34m)\u001b[0m\u001b[0;34m:\u001b[0m\u001b[0;34m\u001b[0m\u001b[0;34m\u001b[0m\u001b[0m\n\u001b[1;32m    352\u001b[0m             \u001b[0;31m# allow calls like trained_model['office'], as a shorthand for trained_model[['office']]\u001b[0m\u001b[0;34m\u001b[0m\u001b[0;34m\u001b[0m\u001b[0;34m\u001b[0m\u001b[0m\n\u001b[0;32m--> 353\u001b[0;31m             \u001b[0;32mreturn\u001b[0m \u001b[0mself\u001b[0m\u001b[0;34m.\u001b[0m\u001b[0mget_vector\u001b[0m\u001b[0;34m(\u001b[0m\u001b[0mentities\u001b[0m\u001b[0;34m)\u001b[0m\u001b[0;34m\u001b[0m\u001b[0;34m\u001b[0m\u001b[0m\n\u001b[0m\u001b[1;32m    354\u001b[0m \u001b[0;34m\u001b[0m\u001b[0m\n\u001b[1;32m    355\u001b[0m         \u001b[0;32mreturn\u001b[0m \u001b[0mvstack\u001b[0m\u001b[0;34m(\u001b[0m\u001b[0;34m[\u001b[0m\u001b[0mself\u001b[0m\u001b[0;34m.\u001b[0m\u001b[0mget_vector\u001b[0m\u001b[0;34m(\u001b[0m\u001b[0mentity\u001b[0m\u001b[0;34m)\u001b[0m \u001b[0;32mfor\u001b[0m \u001b[0mentity\u001b[0m \u001b[0;32min\u001b[0m \u001b[0mentities\u001b[0m\u001b[0;34m]\u001b[0m\u001b[0;34m)\u001b[0m\u001b[0;34m\u001b[0m\u001b[0;34m\u001b[0m\u001b[0m\n",
      "\u001b[0;32m/opt/anaconda3/lib/python3.7/site-packages/gensim/models/keyedvectors.py\u001b[0m in \u001b[0;36mget_vector\u001b[0;34m(self, word)\u001b[0m\n\u001b[1;32m    469\u001b[0m \u001b[0;34m\u001b[0m\u001b[0m\n\u001b[1;32m    470\u001b[0m     \u001b[0;32mdef\u001b[0m \u001b[0mget_vector\u001b[0m\u001b[0;34m(\u001b[0m\u001b[0mself\u001b[0m\u001b[0;34m,\u001b[0m \u001b[0mword\u001b[0m\u001b[0;34m)\u001b[0m\u001b[0;34m:\u001b[0m\u001b[0;34m\u001b[0m\u001b[0;34m\u001b[0m\u001b[0m\n\u001b[0;32m--> 471\u001b[0;31m         \u001b[0;32mreturn\u001b[0m \u001b[0mself\u001b[0m\u001b[0;34m.\u001b[0m\u001b[0mword_vec\u001b[0m\u001b[0;34m(\u001b[0m\u001b[0mword\u001b[0m\u001b[0;34m)\u001b[0m\u001b[0;34m\u001b[0m\u001b[0;34m\u001b[0m\u001b[0m\n\u001b[0m\u001b[1;32m    472\u001b[0m \u001b[0;34m\u001b[0m\u001b[0m\n\u001b[1;32m    473\u001b[0m     \u001b[0;32mdef\u001b[0m \u001b[0mwords_closer_than\u001b[0m\u001b[0;34m(\u001b[0m\u001b[0mself\u001b[0m\u001b[0;34m,\u001b[0m \u001b[0mw1\u001b[0m\u001b[0;34m,\u001b[0m \u001b[0mw2\u001b[0m\u001b[0;34m)\u001b[0m\u001b[0;34m:\u001b[0m\u001b[0;34m\u001b[0m\u001b[0;34m\u001b[0m\u001b[0m\n",
      "\u001b[0;32m/opt/anaconda3/lib/python3.7/site-packages/gensim/models/keyedvectors.py\u001b[0m in \u001b[0;36mword_vec\u001b[0;34m(self, word, use_norm)\u001b[0m\n\u001b[1;32m    466\u001b[0m             \u001b[0;32mreturn\u001b[0m \u001b[0mresult\u001b[0m\u001b[0;34m\u001b[0m\u001b[0;34m\u001b[0m\u001b[0m\n\u001b[1;32m    467\u001b[0m         \u001b[0;32melse\u001b[0m\u001b[0;34m:\u001b[0m\u001b[0;34m\u001b[0m\u001b[0;34m\u001b[0m\u001b[0m\n\u001b[0;32m--> 468\u001b[0;31m             \u001b[0;32mraise\u001b[0m \u001b[0mKeyError\u001b[0m\u001b[0;34m(\u001b[0m\u001b[0;34m\"word '%s' not in vocabulary\"\u001b[0m \u001b[0;34m%\u001b[0m \u001b[0mword\u001b[0m\u001b[0;34m)\u001b[0m\u001b[0;34m\u001b[0m\u001b[0;34m\u001b[0m\u001b[0m\n\u001b[0m\u001b[1;32m    469\u001b[0m \u001b[0;34m\u001b[0m\u001b[0m\n\u001b[1;32m    470\u001b[0m     \u001b[0;32mdef\u001b[0m \u001b[0mget_vector\u001b[0m\u001b[0;34m(\u001b[0m\u001b[0mself\u001b[0m\u001b[0;34m,\u001b[0m \u001b[0mword\u001b[0m\u001b[0;34m)\u001b[0m\u001b[0;34m:\u001b[0m\u001b[0;34m\u001b[0m\u001b[0;34m\u001b[0m\u001b[0m\n",
      "\u001b[0;31mKeyError\u001b[0m: \"word '鬼滅の刃' not in vocabulary\""
     ]
    }
   ],
   "source": [
    "#無い単語を入れると以下のようにエラーをはく。\n",
    "model['鬼滅の刃']"
   ]
  },
  {
   "cell_type": "code",
   "execution_count": 1,
   "metadata": {},
   "outputs": [],
   "source": [
    "#学習済みの単語一覧(200万語)\n",
    "#model.vocab.keys()"
   ]
  },
  {
   "cell_type": "code",
   "execution_count": 40,
   "metadata": {},
   "outputs": [
    {
     "data": {
      "text/plain": [
       "2000000"
      ]
     },
     "execution_count": 40,
     "metadata": {},
     "output_type": "execute_result"
    }
   ],
   "source": [
    "#語数を確認する。\n",
    "len(model.vocab.keys())"
   ]
  },
  {
   "cell_type": "code",
   "execution_count": 16,
   "metadata": {},
   "outputs": [
    {
     "data": {
      "text/plain": [
       "[('蝙翔', 0.7115907669067383),\n",
       " ('吸尻', 0.6776637434959412),\n",
       " ('闘光', 0.6414532661437988),\n",
       " ('憑鉄', 0.6412721276283264),\n",
       " ('イカセエロ', 0.6296408176422119)]"
      ]
     },
     "execution_count": 16,
     "metadata": {},
     "output_type": "execute_result"
    }
   ],
   "source": [
    "#most_similarメソッドで、特定の言葉(「鬼」)と近い単語を表示する。\n",
    "model.most_similar('鬼', topn=5)"
   ]
  },
  {
   "cell_type": "code",
   "execution_count": 49,
   "metadata": {},
   "outputs": [
    {
     "name": "stdout",
     "output_type": "stream",
     "text": [
      "鬼と犬の類似度は 0.3161653 です。\n",
      "猫と犬の類似度は 0.65053856 です。\n",
      "猫とライオンの類似度は 0.4099313 です。\n",
      "林檎とリンゴの類似度は 0.66599756 です。\n"
     ]
    }
   ],
   "source": [
    "#similarityメソッドで、単語の類似度を表示する。\n",
    "print(\"鬼と犬の類似度は\" , model.similarity('鬼', '犬'),\"です。\")\n",
    "print(\"猫と犬の類似度は\" , model.similarity('猫', '犬'),\"です。\")\n",
    "print(\"猫とライオンの類似度は\" , model.similarity('猫', 'ライオン'),\"です。\")\n",
    "print(\"林檎とリンゴの類似度は\" , model.similarity('林檎', 'リンゴ'),\"です。\")"
   ]
  },
  {
   "cell_type": "code",
   "execution_count": 51,
   "metadata": {},
   "outputs": [
    {
     "data": {
      "text/plain": [
       "[('王様', 0.8916897773742676),\n",
       " ('女王', 0.5279211401939392),\n",
       " ('ラジオキッズ', 0.5255386829376221),\n",
       " ('王さま', 0.5226017236709595),\n",
       " ('王妃', 0.5000214576721191)]"
      ]
     },
     "execution_count": 51,
     "metadata": {},
     "output_type": "execute_result"
    }
   ],
   "source": [
    "#単語の足し算と引き算を試してみる。\n",
    "#similar_by_vectorメソッドで、得られた新しい単語と似ているベクトルの単語を抽出することができる。\n",
    "new_vec = model['王様'] - model['男'] + model['女']\n",
    "model.similar_by_vector(new_vec)[:5]"
   ]
  },
  {
   "cell_type": "code",
   "execution_count": 52,
   "metadata": {},
   "outputs": [
    {
     "data": {
      "text/plain": [
       "[('東京', 0.7541787624359131),\n",
       " ('都', 0.6006302833557129),\n",
       " ('大阪', 0.5840979814529419),\n",
       " ('都内', 0.4773663878440857),\n",
       " ('西東京', 0.46788734197616577)]"
      ]
     },
     "execution_count": 52,
     "metadata": {},
     "output_type": "execute_result"
    }
   ],
   "source": [
    "new_vec2 = model['大阪'] - model['梅田'] + model['東京']\n",
    "model.similar_by_vector(new_vec2)[:5]"
   ]
  },
  {
   "cell_type": "markdown",
   "metadata": {},
   "source": [
    "類似サイト  \n",
    "https://qiita.com/yubessy/items/d98482e8ec6180d97389  \n",
    "https://kento1109.hatenablog.com/?page=1510754949"
   ]
  },
  {
   "cell_type": "markdown",
   "metadata": {},
   "source": [
    "gensimのword2vecのオプション  \n",
    "https://onemuri.space/note/1ceozcpdt/"
   ]
  },
  {
   "cell_type": "code",
   "execution_count": null,
   "metadata": {},
   "outputs": [],
   "source": []
  }
 ],
 "metadata": {
  "kernelspec": {
   "display_name": "Python 3",
   "language": "python",
   "name": "python3"
  },
  "language_info": {
   "codemirror_mode": {
    "name": "ipython",
    "version": 3
   },
   "file_extension": ".py",
   "mimetype": "text/x-python",
   "name": "python",
   "nbconvert_exporter": "python",
   "pygments_lexer": "ipython3",
   "version": "3.7.6"
  }
 },
 "nbformat": 4,
 "nbformat_minor": 4
}
