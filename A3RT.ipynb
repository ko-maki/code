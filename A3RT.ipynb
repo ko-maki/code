{
  "nbformat": 4,
  "nbformat_minor": 0,
  "metadata": {
    "colab": {
      "name": "A3RT.ipynb",
      "provenance": [],
      "authorship_tag": "ABX9TyNfgsaHld2EXLqzsTn5OvvX",
      "include_colab_link": true
    },
    "kernelspec": {
      "name": "python3",
      "display_name": "Python 3"
    }
  },
  "cells": [
    {
      "cell_type": "markdown",
      "metadata": {
        "id": "view-in-github",
        "colab_type": "text"
      },
      "source": [
        "<a href=\"https://colab.research.google.com/github/koheimakita/code/blob/master/A3RT.ipynb\" target=\"_parent\"><img src=\"https://colab.research.google.com/assets/colab-badge.svg\" alt=\"Open In Colab\"/></a>"
      ]
    },
    {
      "cell_type": "code",
      "metadata": {
        "colab": {
          "base_uri": "https://localhost:8080/"
        },
        "id": "sAWKQUDTxWsq",
        "outputId": "f90e788e-e651-4dde-ba05-4f9c9da38d6d"
      },
      "source": [
        "pip install pya3rt"
      ],
      "execution_count": 1,
      "outputs": [
        {
          "output_type": "stream",
          "text": [
            "Collecting pya3rt\n",
            "  Downloading https://files.pythonhosted.org/packages/9b/d6/0748d12077f752d439feae7ccd4953ddf8f557743a728f90eb00000a59cc/pya3rt-1.1-py3-none-any.whl\n",
            "Collecting requests==2.12.4\n",
            "\u001b[?25l  Downloading https://files.pythonhosted.org/packages/ed/9e/60cc074968c095f728f0d8d28370e8d396fa60afb7582735563cccf223dd/requests-2.12.4-py2.py3-none-any.whl (576kB)\n",
            "\u001b[K     |████████████████████████████████| 583kB 5.9MB/s \n",
            "\u001b[31mERROR: tensorflow-datasets 4.0.1 has requirement requests>=2.19.0, but you'll have requests 2.12.4 which is incompatible.\u001b[0m\n",
            "\u001b[31mERROR: tensorboard 2.3.0 has requirement requests<3,>=2.21.0, but you'll have requests 2.12.4 which is incompatible.\u001b[0m\n",
            "\u001b[31mERROR: spacy 2.2.4 has requirement requests<3.0.0,>=2.13.0, but you'll have requests 2.12.4 which is incompatible.\u001b[0m\n",
            "\u001b[31mERROR: pandas-datareader 0.9.0 has requirement requests>=2.19.0, but you'll have requests 2.12.4 which is incompatible.\u001b[0m\n",
            "\u001b[31mERROR: google-colab 1.0.0 has requirement requests~=2.23.0, but you'll have requests 2.12.4 which is incompatible.\u001b[0m\n",
            "\u001b[31mERROR: google-api-core 1.16.0 has requirement requests<3.0.0dev,>=2.18.0, but you'll have requests 2.12.4 which is incompatible.\u001b[0m\n",
            "\u001b[31mERROR: datascience 0.10.6 has requirement folium==0.2.1, but you'll have folium 0.8.3 which is incompatible.\u001b[0m\n",
            "\u001b[?25hInstalling collected packages: requests, pya3rt\n",
            "  Found existing installation: requests 2.23.0\n",
            "    Uninstalling requests-2.23.0:\n",
            "      Successfully uninstalled requests-2.23.0\n",
            "Successfully installed pya3rt-1.1 requests-2.12.4\n"
          ],
          "name": "stdout"
        }
      ]
    },
    {
      "cell_type": "code",
      "metadata": {
        "colab": {
          "base_uri": "https://localhost:8080/"
        },
        "id": "rLJ-2sOMxZxy",
        "outputId": "cc345fdf-3c91-48dd-d9ec-f78f65c80d94"
      },
      "source": [
        "import pya3rt\n",
        "apikey = \"*********\" #自分のAPIキーを設定する\n",
        "client = pya3rt.TalkClient(apikey)\n",
        " \n",
        "if __name__ == '__main__':\n",
        "  words = input(\"あなた >\")\n",
        "  while words!=\"\":\n",
        "    response = client.talk(words)\n",
        "    print(\"Bot >\"+((response['results'])[0])['reply'])\n",
        "    words = input(\"あなた >\")\n"
      ],
      "execution_count": 2,
      "outputs": [
        {
          "output_type": "stream",
          "text": [
            "あなた >\n"
          ],
          "name": "stdout"
        }
      ]
    },
    {
      "cell_type": "code",
      "metadata": {
        "id": "slPNoaYGxe1s"
      },
      "source": [
        ""
      ],
      "execution_count": null,
      "outputs": []
    }
  ]
}